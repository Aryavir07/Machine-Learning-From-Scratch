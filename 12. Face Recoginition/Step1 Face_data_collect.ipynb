{
 "cells": [
  {
   "cell_type": "raw",
   "metadata": {},
   "source": [
    "Write a Python script that captures images from your webcam video stream \n",
    "Exract all faces from the image frame using haarcascades\n",
    "store the face information into numpy arrays.\n",
    "\n",
    "1. Read and show video stream, capture images\n",
    "2. Detect faces and show bounding box\n",
    "3. Flatten the largest face image(grayscaled to save space) and save in a numpy array\n",
    "4. repeat the above for multiple people to generate training data"
   ]
  },
  {
   "cell_type": "code",
   "execution_count": 1,
   "metadata": {},
   "outputs": [],
   "source": [
    "import cv2\n",
    "import numpy as np"
   ]
  },
  {
   "cell_type": "code",
   "execution_count": 2,
   "metadata": {},
   "outputs": [
    {
     "name": "stdout",
     "output_type": "stream",
     "text": [
      "Enter the name of the person: Ladli singh \n"
     ]
    }
   ],
   "source": [
    "# initialize camera\n",
    "cap = cv2.VideoCapture(0)\n",
    "skip = 0\n",
    "face_data = []\n",
    "dataset_path = './datasets/'\n",
    "file_name = input('Enter the name of the person: ')\n",
    "# loading haarcascade\n",
    "face_cascade = cv2.CascadeClassifier('haarcascade_frontalface_alt.xml')"
   ]
  },
  {
   "cell_type": "code",
   "execution_count": 3,
   "metadata": {},
   "outputs": [
    {
     "name": "stdout",
     "output_type": "stream",
     "text": [
      "1\n",
      "2\n",
      "3\n",
      "4\n",
      "5\n",
      "6\n",
      "7\n",
      "8\n",
      "9\n",
      "10\n",
      "11\n"
     ]
    },
    {
     "ename": "error",
     "evalue": "OpenCV(4.4.0) C:\\Users\\appveyor\\AppData\\Local\\Temp\\1\\pip-req-build-h4wtvo23\\opencv\\modules\\imgproc\\src\\resize.cpp:3929: error: (-215:Assertion failed) !ssize.empty() in function 'cv::resize'\n",
     "output_type": "error",
     "traceback": [
      "\u001b[1;31m---------------------------------------------------------------------------\u001b[0m",
      "\u001b[1;31merror\u001b[0m                                     Traceback (most recent call last)",
      "\u001b[1;32m<ipython-input-3-537cfac41733>\u001b[0m in \u001b[0;36m<module>\u001b[1;34m\u001b[0m\n\u001b[0;32m     25\u001b[0m         \u001b[0moffset\u001b[0m \u001b[1;33m=\u001b[0m \u001b[1;36m10\u001b[0m\u001b[1;33m\u001b[0m\u001b[1;33m\u001b[0m\u001b[0m\n\u001b[0;32m     26\u001b[0m         \u001b[0mface_section\u001b[0m \u001b[1;33m=\u001b[0m \u001b[0mframe\u001b[0m\u001b[1;33m[\u001b[0m\u001b[0my\u001b[0m\u001b[1;33m-\u001b[0m\u001b[0moffset\u001b[0m\u001b[1;33m:\u001b[0m\u001b[0my\u001b[0m\u001b[1;33m+\u001b[0m\u001b[0mh\u001b[0m\u001b[1;33m+\u001b[0m\u001b[0moffset\u001b[0m\u001b[1;33m,\u001b[0m \u001b[0mx\u001b[0m\u001b[1;33m-\u001b[0m\u001b[0moffset\u001b[0m\u001b[1;33m:\u001b[0m\u001b[0mx\u001b[0m\u001b[1;33m+\u001b[0m\u001b[0mw\u001b[0m\u001b[1;33m+\u001b[0m\u001b[0moffset\u001b[0m\u001b[1;33m]\u001b[0m\u001b[1;33m\u001b[0m\u001b[1;33m\u001b[0m\u001b[0m\n\u001b[1;32m---> 27\u001b[1;33m         \u001b[0mface_section\u001b[0m \u001b[1;33m=\u001b[0m \u001b[0mcv2\u001b[0m\u001b[1;33m.\u001b[0m\u001b[0mresize\u001b[0m\u001b[1;33m(\u001b[0m\u001b[0mface_section\u001b[0m\u001b[1;33m,\u001b[0m\u001b[1;33m(\u001b[0m\u001b[1;36m100\u001b[0m\u001b[1;33m,\u001b[0m\u001b[1;36m100\u001b[0m\u001b[1;33m)\u001b[0m\u001b[1;33m)\u001b[0m\u001b[1;33m\u001b[0m\u001b[1;33m\u001b[0m\u001b[0m\n\u001b[0m\u001b[0;32m     28\u001b[0m \u001b[1;33m\u001b[0m\u001b[0m\n\u001b[0;32m     29\u001b[0m         \u001b[0mskip\u001b[0m\u001b[1;33m+=\u001b[0m\u001b[1;36m1\u001b[0m\u001b[1;33m\u001b[0m\u001b[1;33m\u001b[0m\u001b[0m\n",
      "\u001b[1;31merror\u001b[0m: OpenCV(4.4.0) C:\\Users\\appveyor\\AppData\\Local\\Temp\\1\\pip-req-build-h4wtvo23\\opencv\\modules\\imgproc\\src\\resize.cpp:3929: error: (-215:Assertion failed) !ssize.empty() in function 'cv::resize'\n"
     ]
    }
   ],
   "source": [
    "# sort images on the basis of width(w) and height(h)\n",
    "# select largest area face\n",
    "# frame is an image\n",
    "# frames have coordinates like [Y-axis, X-axis]\n",
    "# 'offset = 10' below is like padding of 10px around a face\n",
    "while True:\n",
    "    \n",
    "    ret,frame = cap.read()\n",
    "    if ret == False:\n",
    "        continue # if frame is not captured try it again\n",
    "        \n",
    "    gray_frame = cv2.cvtColor(frame, cv2.COLOR_BGR2GRAY) \n",
    "   \n",
    "    faces = face_cascade.detectMultiScale(frame,1.3,5)\n",
    "    if len(faces) == 0:\n",
    "        continue\n",
    "        \n",
    "#     print(faces)\n",
    "    faces = sorted(faces,key=lambda f:f[2]*f[3]) # f[2]*f[3] is f[width]*f[height] = area of face\n",
    "    # Pick the largest face \n",
    "    for face in faces[-1:]:\n",
    "        x,y,w,h = face\n",
    "        cv2.rectangle(frame,(x,y),(x+w,y+h),(255,255,255),2)\n",
    "        # Extract (crop out the required face): Region of interest\n",
    "        offset = 10\n",
    "        face_section = frame[y-offset:y+h+offset, x-offset:x+w+offset]\n",
    "        face_section = cv2.resize(face_section,(100,100))\n",
    "        \n",
    "        skip+=1\n",
    "        if skip%10 == 0:\n",
    "            face_data.append(face_section)\n",
    "            print(len(face_data))\n",
    "            \n",
    "    cv2.imshow('Frame', frame)\n",
    "    cv2.imshow('Face Section', face_section)\n",
    "            \n",
    "    \n",
    "#     #Store every 10th face\n",
    "#     if (skip%10==0):\n",
    "#         #store the 10th face later on\n",
    "#         pass\n",
    "    \n",
    "    \n",
    "    key_pressed = cv2.waitKey(1) & 0xFF\n",
    "    if key_pressed is ord('q'):\n",
    "        break\n",
    "        \n",
    "# convert our facelist array into a numpy array\n",
    "face_data = np.asarray(face_data)\n",
    "face_data = face_data.reshape((face_data.shape[0],-1))\n",
    "print(face_data.shape)\n",
    "\n",
    "# Save this data to file system\n",
    "\n",
    "np.save(dataset_path+file_name+'.npy',face_data)\n",
    "print('Data Successfully saved at '+ dataset_path+file_name+'.npy')\n",
    "cap.release()\n",
    "cv2.destroyAllWindows()"
   ]
  },
  {
   "cell_type": "markdown",
   "metadata": {},
   "source": [
    "# COPIED CODE FROM HERE"
   ]
  },
  {
   "cell_type": "code",
   "execution_count": null,
   "metadata": {},
   "outputs": [],
   "source": [
    "# #Init Camera\n",
    "# cap = cv2.VideoCapture(0)\n",
    "\n",
    "# # Face Detection\n",
    "# face_cascade = cv2.CascadeClassifier(\"haarcascade_frontalface_alt.xml\")\n",
    "\n",
    "# skip = 0\n",
    "# face_data = []\n",
    "# dataset_path = './datasets/'\n",
    "# file_name = input(\"Enter the name of the person : \")"
   ]
  },
  {
   "cell_type": "code",
   "execution_count": null,
   "metadata": {},
   "outputs": [],
   "source": [
    "# while True:\n",
    "# \tret,frame = cap.read()\n",
    "\n",
    "# \tif ret==False:\n",
    "# \t\tcontinue\n",
    "\n",
    "# \tgray_frame = cv2.cvtColor(frame,cv2.COLOR_BGR2GRAY)\n",
    "\t\n",
    "\n",
    "# \tfaces = face_cascade.detectMultiScale(frame,1.3,5)\n",
    "# \tif len(faces)==0:\n",
    "# \t\tcontinue\n",
    "\t\t\n",
    "# \tfaces = sorted(faces,key=lambda f:f[2]*f[3])\n",
    "\n",
    "# \t# Pick the last face (because it is the largest face acc to area(f[2]*f[3]))\n",
    "# \tfor face in faces[-1:]:\n",
    "# \t\tx,y,w,h = face\n",
    "# \t\tcv2.rectangle(frame,(x,y),(x+w,y+h),(0,255,255),2)\n",
    "\n",
    "# \t\t#Extract (Crop out the required face) : Region of Interest\n",
    "# \t\toffset = 10\n",
    "# \t\tface_section = frame[y-offset:y+h+offset,x-offset:x+w+offset]\n",
    "# \t\tface_section = cv2.resize(face_section,(100,100))\n",
    "\n",
    "# \t\tskip += 1\n",
    "# \t\tif skip%10==0:\n",
    "# \t\t\tface_data.append(face_section)\n",
    "# \t\t\tprint(len(face_data))\n",
    "\n",
    "\n",
    "# \tcv2.imshow(\"Frame\",frame)\n",
    "# \tcv2.imshow(\"Face Section\",face_section)\n",
    "\n",
    "# \tkey_pressed = cv2.waitKey(1) & 0xFF\n",
    "# \tif key_pressed == ord('q'):\n",
    "# \t\tbreak\n",
    "\n",
    "# # Convert our face list array into a numpy array\n",
    "# face_data = np.asarray(face_data)\n",
    "# face_data = face_data.reshape((face_data.shape[0],-1))\n",
    "# print(face_data.shape)\n",
    "\n",
    "# # Save this data into file system\n",
    "# np.save(dataset_path+file_name+'.npy',face_data)\n",
    "# print(\"Data Successfully save at \"+dataset_path+file_name+'.npy')\n",
    "\n",
    "# cap.release()\n",
    "# cv2.destroyAllWindows()\n"
   ]
  },
  {
   "cell_type": "code",
   "execution_count": null,
   "metadata": {},
   "outputs": [],
   "source": []
  }
 ],
 "metadata": {
  "kernelspec": {
   "display_name": "Python 3",
   "language": "python",
   "name": "python3"
  },
  "language_info": {
   "codemirror_mode": {
    "name": "ipython",
    "version": 3
   },
   "file_extension": ".py",
   "mimetype": "text/x-python",
   "name": "python",
   "nbconvert_exporter": "python",
   "pygments_lexer": "ipython3",
   "version": "3.8.3"
  }
 },
 "nbformat": 4,
 "nbformat_minor": 4
}
