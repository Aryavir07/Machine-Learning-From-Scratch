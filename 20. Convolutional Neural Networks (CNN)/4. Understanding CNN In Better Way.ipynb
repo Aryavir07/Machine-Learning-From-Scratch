{
 "cells": [
  {
   "cell_type": "markdown",
   "id": "preliminary-tiger",
   "metadata": {},
   "source": [
    "### Convolutional Neural Network\n",
    "#### Building Small **Convolutional Neural Networks (ConvNets)** to classify MNIST Dataset\n",
    "- Keras provides 2 kind of API 1. Functional API 2. Sequential API\n",
    "- Sequential API is used when we have stack of layers like Input layer then Conv2D then pooling then Conv2D, pooling so on.\n",
    "- If from any layer a branch comes out to give other detail rather than classification like where the object is, then we use Functional API"
   ]
  },
  {
   "cell_type": "markdown",
   "id": "alpine-forestry",
   "metadata": {},
   "source": [
    "- Kernel Size is taken to tuple of odd integers like (1,1) or (3,3) or (5,5) ..\n",
    "- 32 in first layer denotes 32 filters on size 3x3\n",
    "- \n"
   ]
  },
  {
   "cell_type": "code",
   "execution_count": 1,
   "id": "solar-fossil",
   "metadata": {},
   "outputs": [],
   "source": [
    "from keras.layers import *\n",
    "from keras.models import Sequential\n",
    "from tensorflow import keras\n",
    "from keras.utils import to_categorical #Converts a class vector (integers) to binary class matrix."
   ]
  },
  {
   "cell_type": "code",
   "execution_count": 9,
   "id": "acceptable-lotus",
   "metadata": {},
   "outputs": [
    {
     "name": "stdout",
     "output_type": "stream",
     "text": [
      "Model: \"sequential_1\"\n",
      "_________________________________________________________________\n",
      "Layer (type)                 Output Shape              Param #   \n",
      "=================================================================\n",
      "conv2d_3 (Conv2D)            (None, 26, 26, 32)        320       \n",
      "_________________________________________________________________\n",
      "max_pooling2d_3 (MaxPooling2 (None, 13, 13, 32)        0         \n",
      "_________________________________________________________________\n",
      "conv2d_4 (Conv2D)            (None, 11, 11, 64)        18496     \n",
      "_________________________________________________________________\n",
      "max_pooling2d_4 (MaxPooling2 (None, 5, 5, 64)          0         \n",
      "_________________________________________________________________\n",
      "conv2d_5 (Conv2D)            (None, 3, 3, 64)          36928     \n",
      "_________________________________________________________________\n",
      "flatten (Flatten)            (None, 576)               0         \n",
      "_________________________________________________________________\n",
      "dense (Dense)                (None, 64)                36928     \n",
      "_________________________________________________________________\n",
      "dense_1 (Dense)              (None, 10)                650       \n",
      "=================================================================\n",
      "Total params: 93,322\n",
      "Trainable params: 93,322\n",
      "Non-trainable params: 0\n",
      "_________________________________________________________________\n"
     ]
    }
   ],
   "source": [
    "# Build Model\n",
    "model = Sequential()\n",
    "model.add(Conv2D(32,(3,3),activation='relu',input_shape=(28,28,1)))\n",
    "model.add(MaxPool2D((2,2)))\n",
    "model.add(Conv2D(64,(3,3),activation='relu',input_shape=(28,28,1)))\n",
    "model.add(MaxPool2D((2,2)))\n",
    "model.add(Conv2D(64,(3,3),activation='relu',input_shape=(28,28,1)))\n",
    "model.add(Flatten())\n",
    "model.add(Dense(64,activation='relu'))\n",
    "model.add(Dense(10,activation='softmax'))\n",
    "model.summary()"
   ]
  },
  {
   "cell_type": "code",
   "execution_count": 10,
   "id": "informed-coverage",
   "metadata": {},
   "outputs": [],
   "source": [
    "(X_train,Y_train), (X_test, Y_test) =  keras.datasets.mnist.load_data()"
   ]
  },
  {
   "cell_type": "code",
   "execution_count": 11,
   "id": "adjacent-jacksonville",
   "metadata": {},
   "outputs": [
    {
     "name": "stdout",
     "output_type": "stream",
     "text": [
      "(60000, 28, 28, 1) (60000, 10)\n",
      "(10000, 28, 28, 1) (10000, 10)\n"
     ]
    }
   ],
   "source": [
    "def preprocess_data(X,Y):\n",
    "    X = X.reshape((-1,28,28,1))\n",
    "    X = X/255\n",
    "    Y = to_categorical(Y)\n",
    "    return X,Y\n",
    "Xtrain,Ytrain = preprocess_data(X_train,Y_train)\n",
    "print(Xtrain.shape, Ytrain.shape)\n",
    "\n",
    "Xtest, Ytest = preprocess_data(X_test, Y_test)\n",
    "print(Xtest.shape, Ytest.shape)\n"
   ]
  },
  {
   "cell_type": "code",
   "execution_count": 12,
   "id": "current-telescope",
   "metadata": {
    "scrolled": true
   },
   "outputs": [
    {
     "data": {
      "text/plain": [
       "array([0., 0., 0., 0., 0., 1., 0., 0., 0., 0.], dtype=float32)"
      ]
     },
     "execution_count": 12,
     "metadata": {},
     "output_type": "execute_result"
    }
   ],
   "source": [
    "Ytrain[0]"
   ]
  },
  {
   "cell_type": "markdown",
   "id": "computational-norman",
   "metadata": {},
   "source": [
    "- categorical_crossentropy : for multiclass\n",
    "- Binary Cross entropy : for binary class"
   ]
  },
  {
   "cell_type": "code",
   "execution_count": 14,
   "id": "prescribed-percentage",
   "metadata": {},
   "outputs": [
    {
     "name": "stdout",
     "output_type": "stream",
     "text": [
      "Epoch 1/10\n",
      "422/422 [==============================] - 32s 75ms/step - loss: 0.1739 - accuracy: 0.9471 - val_loss: 0.0665 - val_accuracy: 0.9808\n",
      "Epoch 2/10\n",
      "422/422 [==============================] - 30s 72ms/step - loss: 0.0642 - accuracy: 0.9804 - val_loss: 0.0584 - val_accuracy: 0.9837\n",
      "Epoch 3/10\n",
      "422/422 [==============================] - 31s 72ms/step - loss: 0.0433 - accuracy: 0.9869 - val_loss: 0.0448 - val_accuracy: 0.9872\n",
      "Epoch 4/10\n",
      "422/422 [==============================] - 30s 72ms/step - loss: 0.0344 - accuracy: 0.9894 - val_loss: 0.0412 - val_accuracy: 0.9882\n",
      "Epoch 5/10\n",
      "422/422 [==============================] - 32s 77ms/step - loss: 0.0280 - accuracy: 0.9913 - val_loss: 0.0374 - val_accuracy: 0.9893\n",
      "Epoch 6/10\n",
      "422/422 [==============================] - 32s 76ms/step - loss: 0.0230 - accuracy: 0.9926 - val_loss: 0.0365 - val_accuracy: 0.9905\n",
      "Epoch 7/10\n",
      "422/422 [==============================] - 32s 76ms/step - loss: 0.0201 - accuracy: 0.9935 - val_loss: 0.0405 - val_accuracy: 0.9890\n",
      "Epoch 8/10\n",
      "422/422 [==============================] - 32s 76ms/step - loss: 0.0179 - accuracy: 0.9943 - val_loss: 0.0328 - val_accuracy: 0.9922\n",
      "Epoch 9/10\n",
      "422/422 [==============================] - 32s 76ms/step - loss: 0.0139 - accuracy: 0.9952 - val_loss: 0.0389 - val_accuracy: 0.9897\n",
      "Epoch 10/10\n",
      "422/422 [==============================] - 32s 75ms/step - loss: 0.0142 - accuracy: 0.9955 - val_loss: 0.0340 - val_accuracy: 0.9913\n"
     ]
    }
   ],
   "source": [
    "model.compile(optimizer = 'adam', loss = 'categorical_crossentropy', metrics = ['accuracy'])\n",
    "hist = model.fit(Xtrain, Ytrain, epochs = 10, validation_split = 0.1, batch_size = 128)"
   ]
  },
  {
   "cell_type": "code",
   "execution_count": 15,
   "id": "earned-design",
   "metadata": {
    "scrolled": true
   },
   "outputs": [
    {
     "name": "stdout",
     "output_type": "stream",
     "text": [
      "313/313 [==============================] - 2s 8ms/step - loss: 0.0303 - accuracy: 0.9916\n"
     ]
    },
    {
     "data": {
      "text/plain": [
       "[0.030349355190992355, 0.991599977016449]"
      ]
     },
     "execution_count": 15,
     "metadata": {},
     "output_type": "execute_result"
    }
   ],
   "source": [
    "model.evaluate(Xtest, Ytest)"
   ]
  },
  {
   "cell_type": "markdown",
   "id": "german-budapest",
   "metadata": {},
   "source": [
    "### use validation split (valsplit) to find correct number of epochs needed so that it does not overfit\n",
    "#### after which accuracy rate decreases.\n",
    "\n",
    "#### nexttime train your model without any validation split"
   ]
  },
  {
   "cell_type": "code",
   "execution_count": 16,
   "id": "introductory-thing",
   "metadata": {},
   "outputs": [
    {
     "data": {
      "text/plain": [
       "tensorflow.python.keras.callbacks.History"
      ]
     },
     "execution_count": 16,
     "metadata": {},
     "output_type": "execute_result"
    }
   ],
   "source": [
    "type(hist)"
   ]
  },
  {
   "cell_type": "code",
   "execution_count": 26,
   "id": "streaming-burton",
   "metadata": {},
   "outputs": [
    {
     "data": {
      "text/plain": [
       "'categorical_crossentropy'"
      ]
     },
     "execution_count": 26,
     "metadata": {},
     "output_type": "execute_result"
    }
   ],
   "source": [
    "model.loss"
   ]
  },
  {
   "cell_type": "code",
   "execution_count": 69,
   "id": "several-banner",
   "metadata": {},
   "outputs": [],
   "source": [
    "import matplotlib.pyplot as plt"
   ]
  },
  {
   "cell_type": "code",
   "execution_count": 70,
   "id": "living-packet",
   "metadata": {
    "scrolled": true
   },
   "outputs": [
    {
     "data": {
      "image/png": "[encoded data removed]",
      "text/plain": [
       "<Figure size 432x288 with 1 Axes>"
      ]
     },
     "metadata": {
      "needs_background": "light"
     },
     "output_type": "display_data"
    }
   ],
   "source": [
    "#plt.plot(hist.history['val_loss'], label = 'Loss')\n",
    "plt.plot(hist.history['accuracy'], label = 'Accuracy')\n",
    "plt.legend()\n",
    "plt.show()"
   ]
  },
  {
   "cell_type": "markdown",
   "id": "impossible-genesis",
   "metadata": {},
   "source": [
    "### Data Augmentation [Refer Data Augmentation.ipynb]\n",
    "- Deep Learning Models are \"Data Hungry\"\n",
    "- Small Datasets lead to overfitting most of the times\n",
    "- So lets generate more data by augmentation the training samples"
   ]
  },
  {
   "cell_type": "code",
   "execution_count": null,
   "id": "scientific-passing",
   "metadata": {},
   "outputs": [],
   "source": []
  },
  {
   "cell_type": "code",
   "execution_count": null,
   "id": "rising-whale",
   "metadata": {},
   "outputs": [],
   "source": []
  },
  {
   "cell_type": "code",
   "execution_count": null,
   "id": "provincial-luxury",
   "metadata": {},
   "outputs": [],
   "source": []
  }
 ],
 "metadata": {
  "kernelspec": {
   "display_name": "Python 3",
   "language": "python",
   "name": "python3"
  },
  "language_info": {
   "codemirror_mode": {
    "name": "ipython",
    "version": 3
   },
   "file_extension": ".py",
   "mimetype": "text/x-python",
   "name": "python",
   "nbconvert_exporter": "python",
   "pygments_lexer": "ipython3",
   "version": "3.8.8"
  }
 },
 "nbformat": 4,
 "nbformat_minor": 5
}
