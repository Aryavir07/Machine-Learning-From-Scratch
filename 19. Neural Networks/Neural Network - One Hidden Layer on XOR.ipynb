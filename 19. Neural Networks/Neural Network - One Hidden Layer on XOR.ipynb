{
 "cells": [
  {
   "cell_type": "code",
   "execution_count": 1,
   "metadata": {},
   "outputs": [],
   "source": [
    "import numpy as np"
   ]
  },
  {
   "cell_type": "code",
   "execution_count": 2,
   "metadata": {},
   "outputs": [
    {
     "data": {
      "text/plain": [
       "((4, 2), (4, 1))"
      ]
     },
     "execution_count": 2,
     "metadata": {},
     "output_type": "execute_result"
    }
   ],
   "source": [
    "X = np.array([[0,0],[0,1],[1,0],[1,1]])\n",
    "Y = np.array([[0,1,1,0]]).T\n",
    "X.shape, Y.shape"
   ]
  },
  {
   "cell_type": "code",
   "execution_count": 4,
   "metadata": {},
   "outputs": [],
   "source": [
    "def sig(z):\n",
    "    return 1/(1+ np.exp(-z))"
   ]
  },
  {
   "cell_type": "code",
   "execution_count": 5,
   "metadata": {},
   "outputs": [],
   "source": [
    "def derivativeSig(z):\n",
    "    return sig(z)* (1-sig(z))"
   ]
  },
  {
   "cell_type": "code",
   "execution_count": 6,
   "metadata": {},
   "outputs": [],
   "source": [
    "# one hidden layer weights\n",
    "wh = 2 * np.random.random((2,2)) - 1\n",
    "bh = 2 * np.random.random((1,2)) - 1\n",
    "wo = 2 * np.random.random((2,1)) - 1\n",
    "bo = 2 * np.random.random((1,1)) - 1\n",
    "lr = 0.1"
   ]
  },
  {
   "cell_type": "code",
   "execution_count": 21,
   "metadata": {},
   "outputs": [
    {
     "data": {
      "text/plain": [
       "(array([[0.02850203],\n",
       "        [0.9597481 ],\n",
       "        [0.99118664],\n",
       "        [0.02432672]]),\n",
       " array([[ 5.49134847,  4.42595409],\n",
       "        [-5.41287452, -4.88890848]]),\n",
       " array([[ 2.49206098, -3.70701504]]),\n",
       " array([[-8.05253652],\n",
       "        [13.67049755]]),\n",
       " array([[3.58074723]]))"
      ]
     },
     "execution_count": 21,
     "metadata": {},
     "output_type": "execute_result"
    }
   ],
   "source": [
    "# forward propagation with one hidden layer\n",
    "for iter in range(10000):\n",
    "    output0 = X\n",
    "    inputHidden = np.dot(output0, wh) + bh\n",
    "    outputHidden = sig(inputHidden)\n",
    "    inputForOutputLayer = (np.dot(outputHidden, wo) + bo)\n",
    "    output = sig(inputForOutputLayer)\n",
    "    \n",
    "    firstTermForOutputLayer = output - Y\n",
    "    secondTermForOutputLayer = derivativeSig(inputForOutputLayer)\n",
    "    first_two_output_layer=firstTermForOutputLayer*secondTermForOutputLayer\n",
    "    first_term_hidden_layer = np.dot(first_two_output_layer, wo.T)\n",
    "    second_term_hidden_layer = derivativeSig(inputHidden)\n",
    "    first_two_hidden_layer = first_term_hidden_layer * second_term_hidden_layer\n",
    "\n",
    "    changes_output = np.dot(output0.T, first_two_output_layer)\n",
    "    changes_output_bias = np.sum(first_two_output_layer, axis = 0, keepdims = True)\n",
    "\n",
    "    changes_hidden = np.dot(output0.T, first_two_hidden_layer)\n",
    "    changes_hidden_bias = np.sum(first_two_hidden_layer, axis = 0, keepdims = True)\n",
    "\n",
    "    wo = wo - lr*changes_output\n",
    "    bo =  bo-lr* changes_output_bias\n",
    "\n",
    "    wh = wh - lr*changes_hidden\n",
    "    bh =  bh-lr* changes_hidden_bias\n",
    "\n",
    "\n",
    "output0 = X\n",
    "inputHidden = np.dot(output0, wh) + bh\n",
    "outputHidden = sig(inputHidden)\n",
    "inputForOutputLayer = (np.dot(outputHidden, wo) + bo)\n",
    "output = sig(inputForOutputLayer)\n",
    "output, wh, bh, wo, bo"
   ]
  },
  {
   "cell_type": "code",
   "execution_count": null,
   "metadata": {},
   "outputs": [],
   "source": []
  }
 ],
 "metadata": {
  "kernelspec": {
   "display_name": "Python 3",
   "language": "python",
   "name": "python3"
  },
  "language_info": {
   "codemirror_mode": {
    "name": "ipython",
    "version": 3
   },
   "file_extension": ".py",
   "mimetype": "text/x-python",
   "name": "python",
   "nbconvert_exporter": "python",
   "pygments_lexer": "ipython3",
   "version": "3.9.1"
  }
 },
 "nbformat": 4,
 "nbformat_minor": 4
}
