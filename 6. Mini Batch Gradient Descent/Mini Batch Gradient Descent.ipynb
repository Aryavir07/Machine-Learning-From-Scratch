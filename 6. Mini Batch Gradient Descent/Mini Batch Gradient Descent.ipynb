{
 "cells": [
  {
   "cell_type": "code",
   "execution_count": 1,
   "metadata": {},
   "outputs": [],
   "source": [
    "import numpy as np\n",
    "import matplotlib.pyplot as plt\n",
    "import pandas as pd\n",
    "from sklearn.datasets import load_boston\n",
    "from sklearn.datasets import make_regression"
   ]
  },
  {
   "cell_type": "code",
   "execution_count": 3,
   "metadata": {},
   "outputs": [],
   "source": [
    "# Get or Create a Dataset\n",
    "X, y = make_regression(n_samples = 10000, n_features = 20, n_informative = 20, noise = 10, random_state = 1)\n",
    "\n",
    "# Normalize\n",
    "u = np.mean(X, axis = 0)\n",
    "std = np.std(X, axis = 0)\n",
    "X = (X-u)/std"
   ]
  },
  {
   "cell_type": "code",
   "execution_count": 4,
   "metadata": {},
   "outputs": [
    {
     "name": "stdout",
     "output_type": "stream",
     "text": [
      "(10000, 21)\n",
      "(10000,)\n"
     ]
    }
   ],
   "source": [
    "# Add column of ls for vectorization\n",
    "ones = np.ones((X.shape[0],1))\n",
    "X = np.hstack((ones, X))\n",
    "print(X.shape)\n",
    "print(y.shape)"
   ]
  },
  {
   "cell_type": "code",
   "execution_count": 5,
   "metadata": {},
   "outputs": [],
   "source": [
    "def hypothesis(X, theta):\n",
    "    return np.dot(X, theta)\n",
    "\n",
    "def error(X,y, theta): # Cost function\n",
    "    e = 0.0\n",
    "    m = X.shape[0]\n",
    "    y_ = hypothesis(X,theta)\n",
    "    e = np.sum((y - y_)**2)\n",
    "    return e/m\n",
    "\n",
    "def gradient(X,y, theta):\n",
    "    y_ = hypothesis(X, theta)\n",
    "    grad = np.dot(X.T,(y_ - y ))\n",
    "    m = X.shape[0]\n",
    "    return grad/m\n",
    "\n",
    "#BATCH GRADIENT DESCENT \n",
    "def gradient_descent(X,y, lr = 0.01, max_itrs = 300):\n",
    "    n = X.shape[1]\n",
    "    theta = np.zeros((n,))\n",
    "    error_list = []\n",
    "    \n",
    "    for i in range(max_itrs):\n",
    "        e = error(X,y, theta)\n",
    "        error_list.append(e)\n",
    "        # batch gradient descent -> Compute the gradient ert to entire dataset\n",
    "        grad = gradient(X,y,theta)\n",
    "        theta = theta - lr*grad\n",
    "        \n",
    "    return theta, error_list"
   ]
  },
  {
   "cell_type": "code",
   "execution_count": 39,
   "metadata": {},
   "outputs": [],
   "source": [
    "\"\"\"\n",
    "batch_size = m then it is regular gradient descent\n",
    "batch_size = 200 or something, then it is schotastic batch gradient\n",
    "\"\"\"\n",
    "\n",
    "def batch_gradient_descent(X,y, batch_size = 20, lr = 0.01, max_itrs = 10):\n",
    "    n = X.shape[1]\n",
    "    theta = np.zeros((n,))\n",
    "    error_list = []\n",
    "    \n",
    "    data = np.hstack((X,y.reshape(-1,1)))\n",
    "    \n",
    "    \n",
    "    for i in range(max_itrs):\n",
    "\n",
    "        #Mini batch gradient descent => Compute the gradient ert to entire dataset\n",
    "         \n",
    "        np.random.shuffle(data)\n",
    "        m = data.shape[0]\n",
    "        total_batches = m // batch_size\n",
    "        \n",
    "        for i in range(total_batches):\n",
    "            batch_data = data[i*batch_size : (i+1)*batch_size, :]\n",
    "            x_batch = batch_data[:,:-1]\n",
    "            y_batch = batch_data[:, -1]\n",
    "            \n",
    "            batch_gradient = gradient(x_batch, y_batch, theta)\n",
    "            theta = theta - lr*batch_gradient\n",
    "            e = error(x_batch, y_batch, theta)\n",
    "            error_list.append(e)\n",
    "                              \n",
    "        \n",
    "    return theta, error_list\n",
    "        "
   ]
  },
  {
   "cell_type": "code",
   "execution_count": 40,
   "metadata": {},
   "outputs": [
    {
     "data": {
      "image/png": "[encoded data removed]",
      "text/plain": [
       "<Figure size 432x288 with 1 Axes>"
      ]
     },
     "metadata": {
      "needs_background": "light"
     },
     "output_type": "display_data"
    }
   ],
   "source": [
    "# Mini batch gradient Descent\n",
    "theta, el = batch_gradient_descent(X,y)\n",
    "plt.figure()\n",
    "plt.plot(np.arange(len(el)), el)\n",
    "plt.show()"
   ]
  },
  {
   "cell_type": "code",
   "execution_count": 38,
   "metadata": {},
   "outputs": [
    {
     "name": "stdout",
     "output_type": "stream",
     "text": [
      "264.08329543338743\n"
     ]
    },
    {
     "data": {
      "image/png": "[encoded data removed]",
      "text/plain": [
       "<Figure size 432x288 with 1 Axes>"
      ]
     },
     "metadata": {
      "needs_background": "light"
     },
     "output_type": "display_data"
    }
   ],
   "source": [
    "# Conventional gradient Descent\n",
    "theta, el = gradient_descent(X,y)\n",
    "final_error = el[-1]\n",
    "\n",
    "plt.figure()\n",
    "plt.plot(np.arange(len(el)), el)\n",
    "print(final_error)\n",
    "plt.show()"
   ]
  },
  {
   "cell_type": "code",
   "execution_count": null,
   "metadata": {},
   "outputs": [],
   "source": []
  },
  {
   "cell_type": "code",
   "execution_count": null,
   "metadata": {},
   "outputs": [],
   "source": []
  }
 ],
 "metadata": {
  "kernelspec": {
   "display_name": "Python 3",
   "language": "python",
   "name": "python3"
  },
  "language_info": {
   "codemirror_mode": {
    "name": "ipython",
    "version": 3
   },
   "file_extension": ".py",
   "mimetype": "text/x-python",
   "name": "python",
   "nbconvert_exporter": "python",
   "pygments_lexer": "ipython3",
   "version": "3.8.3"
  }
 },
 "nbformat": 4,
 "nbformat_minor": 4
}
